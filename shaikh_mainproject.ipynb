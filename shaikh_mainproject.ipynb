{
 "cells": [
  {
   "cell_type": "markdown",
   "metadata": {},
   "source": [
    "# Term Project\n",
    "## Mohammed Furkhan, Shaikh"
   ]
  },
  {
   "cell_type": "markdown",
   "metadata": {},
   "source": [
    "## import necessary libraries"
   ]
  },
  {
   "cell_type": "code",
   "execution_count": 174,
   "metadata": {},
   "outputs": [],
   "source": [
    "import torch\n",
    "import torchtext\n",
    "import torch.nn as nn\n",
    "from torchtext.data.utils import get_tokenizer\n",
    "from torchtext.vocab import build_vocab_from_iterator\n",
    "from torch.utils.data import DataLoader\n",
    "from torch.autograd import Variable\n",
    "from torch.nn import functional as F"
   ]
  },
  {
   "cell_type": "code",
   "execution_count": 175,
   "metadata": {},
   "outputs": [],
   "source": [
    "import pandas as pd\n",
    "import numpy as np\n",
    "import re\n",
    "import random"
   ]
  },
  {
   "cell_type": "markdown",
   "metadata": {},
   "source": [
    "## Load the data and Pre-process"
   ]
  },
  {
   "cell_type": "code",
   "execution_count": 176,
   "metadata": {},
   "outputs": [],
   "source": [
    "data = pd.read_csv(\"bgg-15m-reviews.csv\", usecols=[ \"rating\", \"comment\"])[[\"comment\", \"rating\"]]\n",
    "### https://pandas.pydata.org/pandas-docs/stable/reference/api/pandas.read_csv.html"
   ]
  },
  {
   "cell_type": "code",
   "execution_count": 177,
   "metadata": {},
   "outputs": [
    {
     "data": {
      "text/html": [
       "<div>\n",
       "<style scoped>\n",
       "    .dataframe tbody tr th:only-of-type {\n",
       "        vertical-align: middle;\n",
       "    }\n",
       "\n",
       "    .dataframe tbody tr th {\n",
       "        vertical-align: top;\n",
       "    }\n",
       "\n",
       "    .dataframe thead th {\n",
       "        text-align: right;\n",
       "    }\n",
       "</style>\n",
       "<table border=\"1\" class=\"dataframe\">\n",
       "  <thead>\n",
       "    <tr style=\"text-align: right;\">\n",
       "      <th></th>\n",
       "      <th>comment</th>\n",
       "      <th>rating</th>\n",
       "    </tr>\n",
       "  </thead>\n",
       "  <tbody>\n",
       "    <tr>\n",
       "      <th>0</th>\n",
       "      <td>NaN</td>\n",
       "      <td>10.0</td>\n",
       "    </tr>\n",
       "    <tr>\n",
       "      <th>1</th>\n",
       "      <td>Hands down my favorite new game of BGG CON 200...</td>\n",
       "      <td>10.0</td>\n",
       "    </tr>\n",
       "    <tr>\n",
       "      <th>2</th>\n",
       "      <td>I tend to either love or easily tire of co-op ...</td>\n",
       "      <td>10.0</td>\n",
       "    </tr>\n",
       "    <tr>\n",
       "      <th>3</th>\n",
       "      <td>NaN</td>\n",
       "      <td>10.0</td>\n",
       "    </tr>\n",
       "    <tr>\n",
       "      <th>4</th>\n",
       "      <td>This is an amazing co-op game.  I play mostly ...</td>\n",
       "      <td>10.0</td>\n",
       "    </tr>\n",
       "  </tbody>\n",
       "</table>\n",
       "</div>"
      ],
      "text/plain": [
       "                                             comment  rating\n",
       "0                                                NaN    10.0\n",
       "1  Hands down my favorite new game of BGG CON 200...    10.0\n",
       "2  I tend to either love or easily tire of co-op ...    10.0\n",
       "3                                                NaN    10.0\n",
       "4  This is an amazing co-op game.  I play mostly ...    10.0"
      ]
     },
     "execution_count": 177,
     "metadata": {},
     "output_type": "execute_result"
    }
   ],
   "source": [
    "data.head()"
   ]
  },
  {
   "cell_type": "code",
   "execution_count": 178,
   "metadata": {},
   "outputs": [],
   "source": [
    "df = data[data['comment'].notna()]\n",
    "### https://stackoverflow.com/questions/13413590/how-to-drop-rows-of-pandas-dataframe-whose-value-in-a-certain-column-is-nan"
   ]
  },
  {
   "cell_type": "code",
   "execution_count": 179,
   "metadata": {},
   "outputs": [
    {
     "data": {
      "text/html": [
       "<div>\n",
       "<style scoped>\n",
       "    .dataframe tbody tr th:only-of-type {\n",
       "        vertical-align: middle;\n",
       "    }\n",
       "\n",
       "    .dataframe tbody tr th {\n",
       "        vertical-align: top;\n",
       "    }\n",
       "\n",
       "    .dataframe thead th {\n",
       "        text-align: right;\n",
       "    }\n",
       "</style>\n",
       "<table border=\"1\" class=\"dataframe\">\n",
       "  <thead>\n",
       "    <tr style=\"text-align: right;\">\n",
       "      <th></th>\n",
       "      <th>comment</th>\n",
       "      <th>rating</th>\n",
       "    </tr>\n",
       "  </thead>\n",
       "  <tbody>\n",
       "    <tr>\n",
       "      <th>1</th>\n",
       "      <td>Hands down my favorite new game of BGG CON 200...</td>\n",
       "      <td>10.0</td>\n",
       "    </tr>\n",
       "    <tr>\n",
       "      <th>2</th>\n",
       "      <td>I tend to either love or easily tire of co-op ...</td>\n",
       "      <td>10.0</td>\n",
       "    </tr>\n",
       "    <tr>\n",
       "      <th>4</th>\n",
       "      <td>This is an amazing co-op game.  I play mostly ...</td>\n",
       "      <td>10.0</td>\n",
       "    </tr>\n",
       "    <tr>\n",
       "      <th>5</th>\n",
       "      <td>Hey! I can finally rate this game I've been pl...</td>\n",
       "      <td>10.0</td>\n",
       "    </tr>\n",
       "    <tr>\n",
       "      <th>8</th>\n",
       "      <td>Love it- great fun with my son. 2 plays so far...</td>\n",
       "      <td>10.0</td>\n",
       "    </tr>\n",
       "  </tbody>\n",
       "</table>\n",
       "</div>"
      ],
      "text/plain": [
       "                                             comment  rating\n",
       "1  Hands down my favorite new game of BGG CON 200...    10.0\n",
       "2  I tend to either love or easily tire of co-op ...    10.0\n",
       "4  This is an amazing co-op game.  I play mostly ...    10.0\n",
       "5  Hey! I can finally rate this game I've been pl...    10.0\n",
       "8  Love it- great fun with my son. 2 plays so far...    10.0"
      ]
     },
     "execution_count": 179,
     "metadata": {},
     "output_type": "execute_result"
    }
   ],
   "source": [
    "df.head()"
   ]
  },
  {
   "cell_type": "code",
   "execution_count": 180,
   "metadata": {},
   "outputs": [
    {
     "name": "stderr",
     "output_type": "stream",
     "text": [
      "<ipython-input-180-ce967c207f24>:1: SettingWithCopyWarning: \n",
      "A value is trying to be set on a copy of a slice from a DataFrame.\n",
      "Try using .loc[row_indexer,col_indexer] = value instead\n",
      "\n",
      "See the caveats in the documentation: https://pandas.pydata.org/pandas-docs/stable/user_guide/indexing.html#returning-a-view-versus-a-copy\n",
      "  df['rating'] = df['rating'].apply(lambda x: round(x))\n"
     ]
    }
   ],
   "source": [
    "df['rating'] = df['rating'].apply(lambda x: round(x))"
   ]
  },
  {
   "cell_type": "code",
   "execution_count": 181,
   "metadata": {},
   "outputs": [
    {
     "name": "stderr",
     "output_type": "stream",
     "text": [
      "<ipython-input-181-2f079e5abf65>:1: SettingWithCopyWarning: \n",
      "A value is trying to be set on a copy of a slice from a DataFrame.\n",
      "Try using .loc[row_indexer,col_indexer] = value instead\n",
      "\n",
      "See the caveats in the documentation: https://pandas.pydata.org/pandas-docs/stable/user_guide/indexing.html#returning-a-view-versus-a-copy\n",
      "  df['comment'] = df['comment'].apply(lambda x: x.lower())\n"
     ]
    }
   ],
   "source": [
    "df['comment'] = df['comment'].apply(lambda x: x.lower())"
   ]
  },
  {
   "cell_type": "code",
   "execution_count": 182,
   "metadata": {},
   "outputs": [
    {
     "data": {
      "text/plain": [
       "array([10,  9,  8,  7,  6,  5,  4,  3,  2,  1,  0], dtype=int64)"
      ]
     },
     "execution_count": 182,
     "metadata": {},
     "output_type": "execute_result"
    }
   ],
   "source": [
    "df['rating'].unique()"
   ]
  },
  {
   "cell_type": "code",
   "execution_count": 183,
   "metadata": {},
   "outputs": [],
   "source": [
    "### https://stackoverflow.com/questions/29576430/shuffle-dataframe-rows\n",
    "df = df.sample(frac=1).reset_index(drop=True)"
   ]
  },
  {
   "cell_type": "code",
   "execution_count": 184,
   "metadata": {},
   "outputs": [
    {
     "data": {
      "text/html": [
       "<div>\n",
       "<style scoped>\n",
       "    .dataframe tbody tr th:only-of-type {\n",
       "        vertical-align: middle;\n",
       "    }\n",
       "\n",
       "    .dataframe tbody tr th {\n",
       "        vertical-align: top;\n",
       "    }\n",
       "\n",
       "    .dataframe thead th {\n",
       "        text-align: right;\n",
       "    }\n",
       "</style>\n",
       "<table border=\"1\" class=\"dataframe\">\n",
       "  <thead>\n",
       "    <tr style=\"text-align: right;\">\n",
       "      <th></th>\n",
       "      <th>comment</th>\n",
       "      <th>rating</th>\n",
       "    </tr>\n",
       "  </thead>\n",
       "  <tbody>\n",
       "    <tr>\n",
       "      <th>0</th>\n",
       "      <td>not my favorite...too much chance.</td>\n",
       "      <td>4</td>\n",
       "    </tr>\n",
       "    <tr>\n",
       "      <th>1</th>\n",
       "      <td>i have carcassonne and the river , inns cathed...</td>\n",
       "      <td>8</td>\n",
       "    </tr>\n",
       "    <tr>\n",
       "      <th>2</th>\n",
       "      <td>die solovariante ist klasse und schwer zu gewi...</td>\n",
       "      <td>8</td>\n",
       "    </tr>\n",
       "    <tr>\n",
       "      <th>3</th>\n",
       "      <td>red raven games</td>\n",
       "      <td>7</td>\n",
       "    </tr>\n",
       "    <tr>\n",
       "      <th>4</th>\n",
       "      <td>eurogame 2-4. pequeño.mayorias.</td>\n",
       "      <td>6</td>\n",
       "    </tr>\n",
       "    <tr>\n",
       "      <th>5</th>\n",
       "      <td>a very well-written and rich story, disguised ...</td>\n",
       "      <td>9</td>\n",
       "    </tr>\n",
       "    <tr>\n",
       "      <th>6</th>\n",
       "      <td>trying to group cards into combinations just i...</td>\n",
       "      <td>5</td>\n",
       "    </tr>\n",
       "    <tr>\n",
       "      <th>7</th>\n",
       "      <td>dice throne has reinvigorated the head-to-head...</td>\n",
       "      <td>6</td>\n",
       "    </tr>\n",
       "    <tr>\n",
       "      <th>8</th>\n",
       "      <td>the best cooperative game i have ever played. ...</td>\n",
       "      <td>8</td>\n",
       "    </tr>\n",
       "    <tr>\n",
       "      <th>9</th>\n",
       "      <td>2014年4月購入　￥4,924 2014年7月放出　￥5,000</td>\n",
       "      <td>7</td>\n",
       "    </tr>\n",
       "  </tbody>\n",
       "</table>\n",
       "</div>"
      ],
      "text/plain": [
       "                                             comment  rating\n",
       "0                 not my favorite...too much chance.       4\n",
       "1  i have carcassonne and the river , inns cathed...       8\n",
       "2  die solovariante ist klasse und schwer zu gewi...       8\n",
       "3                                    red raven games       7\n",
       "4                   eurogame 2-4. pequeño.mayorias.        6\n",
       "5  a very well-written and rich story, disguised ...       9\n",
       "6  trying to group cards into combinations just i...       5\n",
       "7  dice throne has reinvigorated the head-to-head...       6\n",
       "8  the best cooperative game i have ever played. ...       8\n",
       "9                  2014年4月購入　￥4,924 2014年7月放出　￥5,000       7"
      ]
     },
     "execution_count": 184,
     "metadata": {},
     "output_type": "execute_result"
    }
   ],
   "source": [
    "df.head(10)"
   ]
  },
  {
   "cell_type": "code",
   "execution_count": 185,
   "metadata": {},
   "outputs": [
    {
     "data": {
      "text/html": [
       "<div>\n",
       "<style scoped>\n",
       "    .dataframe tbody tr th:only-of-type {\n",
       "        vertical-align: middle;\n",
       "    }\n",
       "\n",
       "    .dataframe tbody tr th {\n",
       "        vertical-align: top;\n",
       "    }\n",
       "\n",
       "    .dataframe thead th {\n",
       "        text-align: right;\n",
       "    }\n",
       "</style>\n",
       "<table border=\"1\" class=\"dataframe\">\n",
       "  <thead>\n",
       "    <tr style=\"text-align: right;\">\n",
       "      <th></th>\n",
       "      <th>comment</th>\n",
       "      <th>rating</th>\n",
       "    </tr>\n",
       "  </thead>\n",
       "  <tbody>\n",
       "    <tr>\n",
       "      <th>0</th>\n",
       "      <td>not my favoritetoo much chance</td>\n",
       "      <td>4</td>\n",
       "    </tr>\n",
       "    <tr>\n",
       "      <th>1</th>\n",
       "      <td>i have carcassonne and the river  inns cathedr...</td>\n",
       "      <td>8</td>\n",
       "    </tr>\n",
       "    <tr>\n",
       "      <th>2</th>\n",
       "      <td>die solovariante ist klasse und schwer zu gewi...</td>\n",
       "      <td>8</td>\n",
       "    </tr>\n",
       "    <tr>\n",
       "      <th>3</th>\n",
       "      <td>red raven games</td>\n",
       "      <td>7</td>\n",
       "    </tr>\n",
       "    <tr>\n",
       "      <th>4</th>\n",
       "      <td>eurogame  pequeomayorias</td>\n",
       "      <td>6</td>\n",
       "    </tr>\n",
       "    <tr>\n",
       "      <th>5</th>\n",
       "      <td>a very wellwritten and rich story disguised as...</td>\n",
       "      <td>9</td>\n",
       "    </tr>\n",
       "    <tr>\n",
       "      <th>6</th>\n",
       "      <td>trying to group cards into combinations just i...</td>\n",
       "      <td>5</td>\n",
       "    </tr>\n",
       "    <tr>\n",
       "      <th>7</th>\n",
       "      <td>dice throne has reinvigorated the headtohead b...</td>\n",
       "      <td>6</td>\n",
       "    </tr>\n",
       "    <tr>\n",
       "      <th>8</th>\n",
       "      <td>the best cooperative game i have ever played  ...</td>\n",
       "      <td>8</td>\n",
       "    </tr>\n",
       "    <tr>\n",
       "      <th>9</th>\n",
       "      <td></td>\n",
       "      <td>7</td>\n",
       "    </tr>\n",
       "  </tbody>\n",
       "</table>\n",
       "</div>"
      ],
      "text/plain": [
       "                                             comment  rating\n",
       "0                     not my favoritetoo much chance       4\n",
       "1  i have carcassonne and the river  inns cathedr...       8\n",
       "2  die solovariante ist klasse und schwer zu gewi...       8\n",
       "3                                    red raven games       7\n",
       "4                          eurogame  pequeomayorias        6\n",
       "5  a very wellwritten and rich story disguised as...       9\n",
       "6  trying to group cards into combinations just i...       5\n",
       "7  dice throne has reinvigorated the headtohead b...       6\n",
       "8  the best cooperative game i have ever played  ...       8\n",
       "9                                                          7"
      ]
     },
     "execution_count": 185,
     "metadata": {},
     "output_type": "execute_result"
    }
   ],
   "source": [
    "pattern = re.compile(\"[^a-zA-Z ]+\")\n",
    "df[\"comment\"] = df['comment'].map(lambda x: pattern.sub('', x))\n",
    "df.head(10)"
   ]
  },
  {
   "cell_type": "code",
   "execution_count": 186,
   "metadata": {},
   "outputs": [
    {
     "name": "stdout",
     "output_type": "stream",
     "text": [
      "2774889\n"
     ]
    }
   ],
   "source": [
    "# drop rows with comment length <= 10\n",
    "df = df[df['comment'].map(len) > 10]\n",
    "print(len(df))\n",
    "df = df.reset_index(drop=True)"
   ]
  },
  {
   "cell_type": "code",
   "execution_count": 187,
   "metadata": {},
   "outputs": [
    {
     "data": {
      "text/html": [
       "<div>\n",
       "<style scoped>\n",
       "    .dataframe tbody tr th:only-of-type {\n",
       "        vertical-align: middle;\n",
       "    }\n",
       "\n",
       "    .dataframe tbody tr th {\n",
       "        vertical-align: top;\n",
       "    }\n",
       "\n",
       "    .dataframe thead th {\n",
       "        text-align: right;\n",
       "    }\n",
       "</style>\n",
       "<table border=\"1\" class=\"dataframe\">\n",
       "  <thead>\n",
       "    <tr style=\"text-align: right;\">\n",
       "      <th></th>\n",
       "      <th>comment</th>\n",
       "      <th>rating</th>\n",
       "    </tr>\n",
       "  </thead>\n",
       "  <tbody>\n",
       "    <tr>\n",
       "      <th>0</th>\n",
       "      <td>not my favoritetoo much chance</td>\n",
       "      <td>4</td>\n",
       "    </tr>\n",
       "    <tr>\n",
       "      <th>1</th>\n",
       "      <td>i have carcassonne and the river  inns cathedr...</td>\n",
       "      <td>8</td>\n",
       "    </tr>\n",
       "    <tr>\n",
       "      <th>2</th>\n",
       "      <td>die solovariante ist klasse und schwer zu gewi...</td>\n",
       "      <td>8</td>\n",
       "    </tr>\n",
       "    <tr>\n",
       "      <th>3</th>\n",
       "      <td>red raven games</td>\n",
       "      <td>7</td>\n",
       "    </tr>\n",
       "    <tr>\n",
       "      <th>4</th>\n",
       "      <td>eurogame  pequeomayorias</td>\n",
       "      <td>6</td>\n",
       "    </tr>\n",
       "    <tr>\n",
       "      <th>5</th>\n",
       "      <td>a very wellwritten and rich story disguised as...</td>\n",
       "      <td>9</td>\n",
       "    </tr>\n",
       "    <tr>\n",
       "      <th>6</th>\n",
       "      <td>trying to group cards into combinations just i...</td>\n",
       "      <td>5</td>\n",
       "    </tr>\n",
       "    <tr>\n",
       "      <th>7</th>\n",
       "      <td>dice throne has reinvigorated the headtohead b...</td>\n",
       "      <td>6</td>\n",
       "    </tr>\n",
       "    <tr>\n",
       "      <th>8</th>\n",
       "      <td>the best cooperative game i have ever played  ...</td>\n",
       "      <td>8</td>\n",
       "    </tr>\n",
       "    <tr>\n",
       "      <th>9</th>\n",
       "      <td>the first game which used multipurpose cards a...</td>\n",
       "      <td>8</td>\n",
       "    </tr>\n",
       "  </tbody>\n",
       "</table>\n",
       "</div>"
      ],
      "text/plain": [
       "                                             comment  rating\n",
       "0                     not my favoritetoo much chance       4\n",
       "1  i have carcassonne and the river  inns cathedr...       8\n",
       "2  die solovariante ist klasse und schwer zu gewi...       8\n",
       "3                                    red raven games       7\n",
       "4                          eurogame  pequeomayorias        6\n",
       "5  a very wellwritten and rich story disguised as...       9\n",
       "6  trying to group cards into combinations just i...       5\n",
       "7  dice throne has reinvigorated the headtohead b...       6\n",
       "8  the best cooperative game i have ever played  ...       8\n",
       "9  the first game which used multipurpose cards a...       8"
      ]
     },
     "execution_count": 187,
     "metadata": {},
     "output_type": "execute_result"
    }
   ],
   "source": [
    "df.head(10)"
   ]
  },
  {
   "cell_type": "code",
   "execution_count": 188,
   "metadata": {},
   "outputs": [
    {
     "data": {
      "text/plain": [
       "25083"
      ]
     },
     "execution_count": 188,
     "metadata": {},
     "output_type": "execute_result"
    }
   ],
   "source": [
    "df['comment'].map(len).max()"
   ]
  },
  {
   "cell_type": "markdown",
   "metadata": {},
   "source": [
    "## Make Train and Test Datasets"
   ]
  },
  {
   "cell_type": "code",
   "execution_count": 189,
   "metadata": {},
   "outputs": [],
   "source": [
    "training_df = df.loc[:20000]\n",
    "testing_df = df.loc[20000:25000]"
   ]
  },
  {
   "cell_type": "code",
   "execution_count": 190,
   "metadata": {},
   "outputs": [
    {
     "data": {
      "text/html": [
       "<div>\n",
       "<style scoped>\n",
       "    .dataframe tbody tr th:only-of-type {\n",
       "        vertical-align: middle;\n",
       "    }\n",
       "\n",
       "    .dataframe tbody tr th {\n",
       "        vertical-align: top;\n",
       "    }\n",
       "\n",
       "    .dataframe thead th {\n",
       "        text-align: right;\n",
       "    }\n",
       "</style>\n",
       "<table border=\"1\" class=\"dataframe\">\n",
       "  <thead>\n",
       "    <tr style=\"text-align: right;\">\n",
       "      <th></th>\n",
       "      <th>comment</th>\n",
       "      <th>rating</th>\n",
       "    </tr>\n",
       "  </thead>\n",
       "  <tbody>\n",
       "    <tr>\n",
       "      <th>0</th>\n",
       "      <td>not my favoritetoo much chance</td>\n",
       "      <td>4</td>\n",
       "    </tr>\n",
       "    <tr>\n",
       "      <th>1</th>\n",
       "      <td>i have carcassonne and the river  inns cathedr...</td>\n",
       "      <td>8</td>\n",
       "    </tr>\n",
       "    <tr>\n",
       "      <th>2</th>\n",
       "      <td>die solovariante ist klasse und schwer zu gewi...</td>\n",
       "      <td>8</td>\n",
       "    </tr>\n",
       "    <tr>\n",
       "      <th>3</th>\n",
       "      <td>red raven games</td>\n",
       "      <td>7</td>\n",
       "    </tr>\n",
       "    <tr>\n",
       "      <th>4</th>\n",
       "      <td>eurogame  pequeomayorias</td>\n",
       "      <td>6</td>\n",
       "    </tr>\n",
       "  </tbody>\n",
       "</table>\n",
       "</div>"
      ],
      "text/plain": [
       "                                             comment  rating\n",
       "0                     not my favoritetoo much chance       4\n",
       "1  i have carcassonne and the river  inns cathedr...       8\n",
       "2  die solovariante ist klasse und schwer zu gewi...       8\n",
       "3                                    red raven games       7\n",
       "4                          eurogame  pequeomayorias        6"
      ]
     },
     "execution_count": 190,
     "metadata": {},
     "output_type": "execute_result"
    }
   ],
   "source": [
    "training_df.head()"
   ]
  },
  {
   "cell_type": "code",
   "execution_count": 191,
   "metadata": {},
   "outputs": [
    {
     "data": {
      "text/html": [
       "<div>\n",
       "<style scoped>\n",
       "    .dataframe tbody tr th:only-of-type {\n",
       "        vertical-align: middle;\n",
       "    }\n",
       "\n",
       "    .dataframe tbody tr th {\n",
       "        vertical-align: top;\n",
       "    }\n",
       "\n",
       "    .dataframe thead th {\n",
       "        text-align: right;\n",
       "    }\n",
       "</style>\n",
       "<table border=\"1\" class=\"dataframe\">\n",
       "  <thead>\n",
       "    <tr style=\"text-align: right;\">\n",
       "      <th></th>\n",
       "      <th>comment</th>\n",
       "      <th>rating</th>\n",
       "    </tr>\n",
       "  </thead>\n",
       "  <tbody>\n",
       "    <tr>\n",
       "      <th>20000</th>\n",
       "      <td>i could see how this game was great when it re...</td>\n",
       "      <td>5</td>\n",
       "    </tr>\n",
       "    <tr>\n",
       "      <th>20001</th>\n",
       "      <td>my opinion is based on gameplay with two expan...</td>\n",
       "      <td>9</td>\n",
       "    </tr>\n",
       "    <tr>\n",
       "      <th>20002</th>\n",
       "      <td>bit complicated when you start but then really...</td>\n",
       "      <td>9</td>\n",
       "    </tr>\n",
       "    <tr>\n",
       "      <th>20003</th>\n",
       "      <td>too much luck</td>\n",
       "      <td>4</td>\n",
       "    </tr>\n",
       "    <tr>\n",
       "      <th>20004</th>\n",
       "      <td>when i was in college i played in a thoroughly...</td>\n",
       "      <td>6</td>\n",
       "    </tr>\n",
       "  </tbody>\n",
       "</table>\n",
       "</div>"
      ],
      "text/plain": [
       "                                                 comment  rating\n",
       "20000  i could see how this game was great when it re...       5\n",
       "20001  my opinion is based on gameplay with two expan...       9\n",
       "20002  bit complicated when you start but then really...       9\n",
       "20003                                      too much luck       4\n",
       "20004  when i was in college i played in a thoroughly...       6"
      ]
     },
     "execution_count": 191,
     "metadata": {},
     "output_type": "execute_result"
    }
   ],
   "source": [
    "testing_df.head()"
   ]
  },
  {
   "cell_type": "code",
   "execution_count": 192,
   "metadata": {},
   "outputs": [],
   "source": [
    "training_df.to_csv(\"training.csv\", index=False)"
   ]
  },
  {
   "cell_type": "code",
   "execution_count": 193,
   "metadata": {},
   "outputs": [],
   "source": [
    "testing_df.to_csv(\"testing.csv\", index=False)"
   ]
  },
  {
   "cell_type": "markdown",
   "metadata": {},
   "source": [
    "## Prepare dataset for Pytorch torchtext"
   ]
  },
  {
   "cell_type": "markdown",
   "metadata": {},
   "source": [
    "Data is tokenized and converted into numerical values for Neural network"
   ]
  },
  {
   "cell_type": "code",
   "execution_count": 194,
   "metadata": {},
   "outputs": [],
   "source": [
    "tokenizer = lambda x: x.split()"
   ]
  },
  {
   "cell_type": "code",
   "execution_count": 195,
   "metadata": {},
   "outputs": [],
   "source": [
    "TEXT = torchtext.data.Field(sequential=True, tokenize=tokenizer, lower=True, include_lengths=True, batch_first=True, fix_length=200)\n",
    "LABEL = torchtext.data.LabelField(dtype=torch.float)"
   ]
  },
  {
   "cell_type": "code",
   "execution_count": 196,
   "metadata": {},
   "outputs": [],
   "source": [
    "fields = [('comment',TEXT),('rating', LABEL)]"
   ]
  },
  {
   "cell_type": "code",
   "execution_count": 197,
   "metadata": {},
   "outputs": [],
   "source": [
    "train_data = torchtext.data.TabularDataset(\"training.csv\",\"csv\", fields, skip_header=True)"
   ]
  },
  {
   "cell_type": "code",
   "execution_count": 198,
   "metadata": {},
   "outputs": [],
   "source": [
    "test_data = torchtext.data.TabularDataset(\"testing.csv\",\"csv\", fields, skip_header=True)"
   ]
  },
  {
   "cell_type": "code",
   "execution_count": 199,
   "metadata": {},
   "outputs": [
    {
     "data": {
      "text/plain": [
       "(['not', 'my', 'favoritetoo', 'much', 'chance'], '4')"
      ]
     },
     "execution_count": 199,
     "metadata": {},
     "output_type": "execute_result"
    }
   ],
   "source": [
    "train_data.examples[0].comment, train_data.examples[0].rating"
   ]
  },
  {
   "cell_type": "markdown",
   "metadata": {},
   "source": [
    "## Create Word Embedding vectors for embedding layer"
   ]
  },
  {
   "cell_type": "code",
   "execution_count": 200,
   "metadata": {},
   "outputs": [],
   "source": [
    "TEXT.build_vocab(train_data, vectors=torchtext.vocab.GloVe(name='6B', dim=100))\n",
    "LABEL.build_vocab(train_data)"
   ]
  },
  {
   "cell_type": "code",
   "execution_count": 201,
   "metadata": {},
   "outputs": [],
   "source": [
    "word_embeddings = TEXT.vocab.vectors"
   ]
  },
  {
   "cell_type": "code",
   "execution_count": 202,
   "metadata": {},
   "outputs": [],
   "source": [
    "train_data, valid_data = train_data.split()"
   ]
  },
  {
   "cell_type": "code",
   "execution_count": 203,
   "metadata": {},
   "outputs": [],
   "source": [
    "train_iter, valid_iter, test_iter = torchtext.data.BucketIterator.splits((train_data, valid_data, test_data),\n",
    "                                                               batch_size=32,\n",
    "                                                               sort_key=lambda x: len(x.comment),\n",
    "                                                               repeat=False,\n",
    "                                                               shuffle=True)"
   ]
  },
  {
   "cell_type": "code",
   "execution_count": 204,
   "metadata": {},
   "outputs": [],
   "source": [
    "vocab_size = len(TEXT.vocab)\n",
    "device = torch.device(\"cuda\" if torch.cuda.is_available() else \"cpu\")"
   ]
  },
  {
   "cell_type": "markdown",
   "metadata": {},
   "source": [
    "## Model Design: LSTM Classifier"
   ]
  },
  {
   "cell_type": "code",
   "execution_count": 205,
   "metadata": {},
   "outputs": [],
   "source": [
    "class ClassifierModel(nn.Module):\n",
    "    def __init__(self, batch_size, output_size, hidden_size, vocab_size, embedding_length, weights):\n",
    "        super(ClassifierModel, self).__init__()\n",
    "        \"\"\"\n",
    "        output_size : 2 = (pos, neg)\n",
    "        \"\"\"\n",
    "        self.batch_size = batch_size\n",
    "        self.output_size = output_size\n",
    "        self.hidden_size = hidden_size\n",
    "        self.vocab_size = vocab_size\n",
    "        self.embedding_length = embedding_length\n",
    "\n",
    "        self.word_embeddings = nn.Embedding(vocab_size, embedding_length)  # Initiale the look-up table.\n",
    "        self.word_embeddings.weight = nn.Parameter(weights, requires_grad=False) # Assign pre-trained GloVe word embedding.\n",
    "        self.lstm = nn.LSTM(embedding_length, hidden_size)\n",
    "        self.label = nn.Linear(hidden_size, output_size)\n",
    "\n",
    "    def forward(self, input_sentence, batch_size=None):\n",
    "        \"\"\" \n",
    "        final_output.shape = (batch_size, output_size)\n",
    "        \"\"\"\n",
    "        input = self.word_embeddings(input_sentence) # embedded input of shape = (batch_size, num_sequences,  embedding_length)\n",
    "        input = input.permute(1, 0, 2) # input.size() = (num_sequences, batch_size, embedding_length)\n",
    "        if batch_size is None:\n",
    "            h_0 = Variable(torch.zeros(1, self.batch_size, self.hidden_size)) # Initial hidden state of the LSTM\n",
    "            c_0 = Variable(torch.zeros(1, self.batch_size, self.hidden_size)) # Initial cell state of the LSTM\n",
    "        else:\n",
    "            h_0 = Variable(torch.zeros(1, batch_size, self.hidden_size))\n",
    "            c_0 = Variable(torch.zeros(1, batch_size, self.hidden_size))\n",
    "        output, (final_hidden_state, final_cell_state) = self.lstm(input, (h_0, c_0))\n",
    "        final_output = self.label(final_hidden_state[-1]) # final_hidden_state.size() = (1, batch_size, hidden_size) & final_output.size() = (batch_size, output_size)\n",
    "\n",
    "        return final_output\n"
   ]
  },
  {
   "cell_type": "markdown",
   "metadata": {},
   "source": [
    "## handle vanishing and exploding gradients"
   ]
  },
  {
   "cell_type": "code",
   "execution_count": 206,
   "metadata": {},
   "outputs": [],
   "source": [
    "def clip_gradient(model, clip_value):\n",
    "    params = list(filter(lambda p: p.grad is not None, model.parameters()))\n",
    "    for p in params:\n",
    "        p.grad.data.clamp_(-clip_value, clip_value)"
   ]
  },
  {
   "cell_type": "markdown",
   "metadata": {},
   "source": [
    "## Training and Evaluation functions"
   ]
  },
  {
   "cell_type": "code",
   "execution_count": 207,
   "metadata": {},
   "outputs": [],
   "source": [
    "def train_model(model, train_iter, epoch):\n",
    "    total_epoch_loss = 0\n",
    "    total_epoch_acc = 0\n",
    "    model.to(device)\n",
    "    optim = torch.optim.Adam(filter(lambda p: p.requires_grad, model.parameters()))\n",
    "    steps = 0\n",
    "    model.train()\n",
    "    for idx, batch in enumerate(train_iter):\n",
    "        text = batch.comment[0]\n",
    "        target = batch.rating\n",
    "        target = torch.autograd.Variable(target).long()\n",
    "        if torch.cuda.is_available():\n",
    "            text = text.cuda()\n",
    "            target = target.cuda()\n",
    "        if (text.size()[0] != 32):# One of the batch has length different than 32.\n",
    "            continue\n",
    "        optim.zero_grad()\n",
    "        prediction = model(text)\n",
    "        loss = loss_fn(prediction, target)\n",
    "        num_corrects = (torch.max(prediction, 1)[1].view(target.size()).data == target.data).float().sum()\n",
    "        acc = 100.0 * num_corrects/len(batch)\n",
    "        loss.backward()\n",
    "        clip_gradient(model, 1e-1)\n",
    "        optim.step()\n",
    "        steps += 1\n",
    "        \n",
    "        if steps % 100 == 0:\n",
    "            print (f'Epoch: {epoch+1}, Idx: {idx+1}, Training Loss: {loss.item():.4f}, Training Accuracy: {acc.item(): .2f}%')\n",
    "        \n",
    "        total_epoch_loss += loss.item()\n",
    "        total_epoch_acc += acc.item()\n",
    "        \n",
    "    return total_epoch_loss/len(train_iter), total_epoch_acc/len(train_iter)"
   ]
  },
  {
   "cell_type": "code",
   "execution_count": 208,
   "metadata": {},
   "outputs": [],
   "source": [
    "def eval_model(model, val_iter):\n",
    "    total_epoch_loss = 0\n",
    "    total_epoch_acc = 0\n",
    "    model.eval()\n",
    "    with torch.no_grad():\n",
    "        for idx, batch in enumerate(val_iter):\n",
    "            text = batch.comment[0]\n",
    "            if (text.size()[0] != 32):\n",
    "                continue\n",
    "            target = batch.rating\n",
    "            target = torch.autograd.Variable(target).long()\n",
    "            if torch.cuda.is_available():\n",
    "                text = text.cuda()\n",
    "                target = target.cuda()\n",
    "            prediction = model(text)\n",
    "            loss = loss_fn(prediction, target)\n",
    "            num_corrects = (torch.max(prediction, 1)[1].view(target.size()).data == target.data).sum()\n",
    "            acc = 100.0 * num_corrects/len(batch)\n",
    "            total_epoch_loss += loss.item()\n",
    "            total_epoch_acc += acc.item()\n",
    "\n",
    "    return total_epoch_loss/len(val_iter), total_epoch_acc/len(val_iter)"
   ]
  },
  {
   "cell_type": "code",
   "execution_count": 209,
   "metadata": {},
   "outputs": [],
   "source": [
    "batch_size = 32\n",
    "output_size = 11\n",
    "hidden_size = 256\n",
    "embedding_length = 100\n",
    "model = ClassifierModel(batch_size, output_size, hidden_size, vocab_size, embedding_length, word_embeddings)"
   ]
  },
  {
   "cell_type": "code",
   "execution_count": 210,
   "metadata": {},
   "outputs": [],
   "source": [
    "learning_rate = 0.001\n",
    "loss_fn = F.cross_entropy"
   ]
  },
  {
   "cell_type": "code",
   "execution_count": 211,
   "metadata": {},
   "outputs": [
    {
     "name": "stdout",
     "output_type": "stream",
     "text": [
      "Epoch: 1, Idx: 100, Training Loss: 1.8817, Training Accuracy:  15.62%\n",
      "Epoch: 1, Idx: 200, Training Loss: 1.9796, Training Accuracy:  21.88%\n",
      "Epoch: 1, Idx: 300, Training Loss: 1.9345, Training Accuracy:  12.50%\n",
      "Epoch: 1, Idx: 400, Training Loss: 1.8232, Training Accuracy:  25.00%\n",
      "Epoch: 01, Train Loss: 1.959, Train Acc: 23.31%, Val. Loss: 1.959021, Val. Acc: 24.14%\n",
      "Epoch: 2, Idx: 100, Training Loss: 1.7796, Training Accuracy:  34.38%\n",
      "Epoch: 2, Idx: 200, Training Loss: 1.9129, Training Accuracy:  15.62%\n",
      "Epoch: 2, Idx: 300, Training Loss: 1.8297, Training Accuracy:  18.75%\n",
      "Epoch: 2, Idx: 400, Training Loss: 2.0461, Training Accuracy:  28.12%\n",
      "Epoch: 02, Train Loss: 1.942, Train Acc: 24.58%, Val. Loss: 1.956214, Val. Acc: 24.15%\n",
      "Epoch: 3, Idx: 100, Training Loss: 1.8465, Training Accuracy:  25.00%\n",
      "Epoch: 3, Idx: 200, Training Loss: 1.9638, Training Accuracy:  25.00%\n",
      "Epoch: 3, Idx: 300, Training Loss: 2.0503, Training Accuracy:  25.00%\n",
      "Epoch: 3, Idx: 400, Training Loss: 1.6950, Training Accuracy:  34.38%\n",
      "Epoch: 03, Train Loss: 1.940, Train Acc: 24.48%, Val. Loss: 1.959481, Val. Acc: 24.15%\n",
      "Epoch: 4, Idx: 100, Training Loss: 2.0443, Training Accuracy:  21.88%\n",
      "Epoch: 4, Idx: 200, Training Loss: 1.9057, Training Accuracy:  18.75%\n",
      "Epoch: 4, Idx: 300, Training Loss: 1.8505, Training Accuracy:  31.25%\n",
      "Epoch: 4, Idx: 400, Training Loss: 1.9150, Training Accuracy:  18.75%\n",
      "Epoch: 04, Train Loss: 1.939, Train Acc: 24.61%, Val. Loss: 1.958176, Val. Acc: 24.09%\n",
      "Epoch: 5, Idx: 100, Training Loss: 2.0187, Training Accuracy:  31.25%\n",
      "Epoch: 5, Idx: 200, Training Loss: 1.9349, Training Accuracy:  25.00%\n",
      "Epoch: 5, Idx: 300, Training Loss: 1.8508, Training Accuracy:  28.12%\n",
      "Epoch: 5, Idx: 400, Training Loss: 1.9225, Training Accuracy:  31.25%\n",
      "Epoch: 05, Train Loss: 1.935, Train Acc: 24.91%, Val. Loss: 1.960887, Val. Acc: 19.55%\n",
      "Epoch: 6, Idx: 100, Training Loss: 1.9227, Training Accuracy:  28.12%\n",
      "Epoch: 6, Idx: 200, Training Loss: 1.8721, Training Accuracy:  25.00%\n",
      "Epoch: 6, Idx: 300, Training Loss: 1.8826, Training Accuracy:  28.12%\n",
      "Epoch: 6, Idx: 400, Training Loss: 2.0275, Training Accuracy:  25.00%\n",
      "Epoch: 06, Train Loss: 1.930, Train Acc: 25.04%, Val. Loss: 1.959219, Val. Acc: 23.99%\n",
      "Epoch: 7, Idx: 100, Training Loss: 2.0467, Training Accuracy:  31.25%\n",
      "Epoch: 7, Idx: 200, Training Loss: 1.7155, Training Accuracy:  34.38%\n",
      "Epoch: 7, Idx: 300, Training Loss: 1.8384, Training Accuracy:  28.12%\n",
      "Epoch: 7, Idx: 400, Training Loss: 1.8553, Training Accuracy:  28.12%\n",
      "Epoch: 07, Train Loss: 1.923, Train Acc: 25.30%, Val. Loss: 1.966787, Val. Acc: 24.04%\n",
      "Epoch: 8, Idx: 100, Training Loss: 1.8582, Training Accuracy:  25.00%\n",
      "Epoch: 8, Idx: 200, Training Loss: 2.0475, Training Accuracy:  21.88%\n",
      "Epoch: 8, Idx: 300, Training Loss: 1.9905, Training Accuracy:  21.88%\n",
      "Epoch: 8, Idx: 400, Training Loss: 2.0211, Training Accuracy:  21.88%\n",
      "Epoch: 08, Train Loss: 1.916, Train Acc: 25.65%, Val. Loss: 1.966467, Val. Acc: 24.05%\n",
      "Epoch: 9, Idx: 100, Training Loss: 1.9011, Training Accuracy:  18.75%\n",
      "Epoch: 9, Idx: 200, Training Loss: 1.8806, Training Accuracy:  25.00%\n",
      "Epoch: 9, Idx: 300, Training Loss: 1.7646, Training Accuracy:  28.12%\n",
      "Epoch: 9, Idx: 400, Training Loss: 1.7737, Training Accuracy:  15.62%\n",
      "Epoch: 09, Train Loss: 1.910, Train Acc: 25.75%, Val. Loss: 1.974682, Val. Acc: 24.09%\n",
      "Epoch: 10, Idx: 100, Training Loss: 1.9618, Training Accuracy:  18.75%\n",
      "Epoch: 10, Idx: 200, Training Loss: 2.1028, Training Accuracy:  31.25%\n",
      "Epoch: 10, Idx: 300, Training Loss: 2.1208, Training Accuracy:  15.62%\n",
      "Epoch: 10, Idx: 400, Training Loss: 1.9032, Training Accuracy:  21.88%\n",
      "Epoch: 10, Train Loss: 1.917, Train Acc: 25.88%, Val. Loss: 2.171429, Val. Acc: 23.50%\n",
      "Epoch: 11, Idx: 100, Training Loss: 1.7623, Training Accuracy:  28.12%\n",
      "Epoch: 11, Idx: 200, Training Loss: 2.1455, Training Accuracy:  12.50%\n",
      "Epoch: 11, Idx: 300, Training Loss: 1.9437, Training Accuracy:  28.12%\n",
      "Epoch: 11, Idx: 400, Training Loss: 1.7455, Training Accuracy:  46.88%\n",
      "Epoch: 11, Train Loss: 1.904, Train Acc: 25.70%, Val. Loss: 1.983799, Val. Acc: 23.97%\n",
      "Epoch: 12, Idx: 100, Training Loss: 1.6923, Training Accuracy:  28.12%\n",
      "Epoch: 12, Idx: 200, Training Loss: 1.9681, Training Accuracy:  15.62%\n",
      "Epoch: 12, Idx: 300, Training Loss: 1.8936, Training Accuracy:  31.25%\n",
      "Epoch: 12, Idx: 400, Training Loss: 1.7276, Training Accuracy:  37.50%\n",
      "Epoch: 12, Train Loss: 1.903, Train Acc: 26.06%, Val. Loss: 1.988978, Val. Acc: 21.36%\n",
      "Epoch: 13, Idx: 100, Training Loss: 1.8786, Training Accuracy:  28.12%\n",
      "Epoch: 13, Idx: 200, Training Loss: 1.8545, Training Accuracy:  31.25%\n",
      "Epoch: 13, Idx: 300, Training Loss: 1.9018, Training Accuracy:  25.00%\n",
      "Epoch: 13, Idx: 400, Training Loss: 1.9569, Training Accuracy:  34.38%\n",
      "Epoch: 13, Train Loss: 1.902, Train Acc: 25.81%, Val. Loss: 1.990323, Val. Acc: 23.92%\n",
      "Epoch: 14, Idx: 100, Training Loss: 2.0099, Training Accuracy:  18.75%\n",
      "Epoch: 14, Idx: 200, Training Loss: 1.8638, Training Accuracy:  21.88%\n",
      "Epoch: 14, Idx: 300, Training Loss: 1.7248, Training Accuracy:  28.12%\n",
      "Epoch: 14, Idx: 400, Training Loss: 1.8391, Training Accuracy:  34.38%\n",
      "Epoch: 14, Train Loss: 1.902, Train Acc: 26.08%, Val. Loss: 1.996417, Val. Acc: 23.94%\n",
      "Epoch: 15, Idx: 100, Training Loss: 1.9148, Training Accuracy:  28.12%\n",
      "Epoch: 15, Idx: 200, Training Loss: 1.8815, Training Accuracy:  28.12%\n",
      "Epoch: 15, Idx: 300, Training Loss: 2.0952, Training Accuracy:  15.62%\n",
      "Epoch: 15, Idx: 400, Training Loss: 1.8587, Training Accuracy:  18.75%\n",
      "Epoch: 15, Train Loss: 1.901, Train Acc: 25.75%, Val. Loss: 1.998800, Val. Acc: 23.92%\n",
      "Epoch: 16, Idx: 100, Training Loss: 2.0283, Training Accuracy:  28.12%\n",
      "Epoch: 16, Idx: 200, Training Loss: 1.6452, Training Accuracy:  46.88%\n",
      "Epoch: 16, Idx: 300, Training Loss: 1.8542, Training Accuracy:  18.75%\n",
      "Epoch: 16, Idx: 400, Training Loss: 1.8926, Training Accuracy:  34.38%\n",
      "Epoch: 16, Train Loss: 1.901, Train Acc: 26.00%, Val. Loss: 2.000909, Val. Acc: 23.99%\n",
      "Epoch: 17, Idx: 100, Training Loss: 1.7828, Training Accuracy:  37.50%\n",
      "Epoch: 17, Idx: 200, Training Loss: 1.9695, Training Accuracy:  28.12%\n",
      "Epoch: 17, Idx: 300, Training Loss: 1.7847, Training Accuracy:  43.75%\n",
      "Epoch: 17, Idx: 400, Training Loss: 1.8889, Training Accuracy:  37.50%\n",
      "Epoch: 17, Train Loss: 1.901, Train Acc: 26.21%, Val. Loss: 1.995831, Val. Acc: 24.00%\n",
      "Epoch: 18, Idx: 100, Training Loss: 1.7899, Training Accuracy:  21.88%\n",
      "Epoch: 18, Idx: 200, Training Loss: 1.8030, Training Accuracy:  34.38%\n",
      "Epoch: 18, Idx: 300, Training Loss: 1.9733, Training Accuracy:  12.50%\n",
      "Epoch: 18, Idx: 400, Training Loss: 1.8422, Training Accuracy:  21.88%\n",
      "Epoch: 18, Train Loss: 1.900, Train Acc: 25.81%, Val. Loss: 2.009763, Val. Acc: 24.05%\n",
      "Epoch: 19, Idx: 100, Training Loss: 1.9776, Training Accuracy:  25.00%\n",
      "Epoch: 19, Idx: 200, Training Loss: 1.7654, Training Accuracy:  28.12%\n",
      "Epoch: 19, Idx: 300, Training Loss: 1.9529, Training Accuracy:  21.88%\n",
      "Epoch: 19, Idx: 400, Training Loss: 1.7616, Training Accuracy:  34.38%\n",
      "Epoch: 19, Train Loss: 1.900, Train Acc: 26.18%, Val. Loss: 2.016214, Val. Acc: 23.99%\n",
      "Epoch: 20, Idx: 100, Training Loss: 1.9149, Training Accuracy:  18.75%\n",
      "Epoch: 20, Idx: 200, Training Loss: 1.8213, Training Accuracy:  37.50%\n",
      "Epoch: 20, Idx: 300, Training Loss: 1.9546, Training Accuracy:  18.75%\n",
      "Epoch: 20, Idx: 400, Training Loss: 1.7134, Training Accuracy:  31.25%\n",
      "Epoch: 20, Train Loss: 1.902, Train Acc: 26.18%, Val. Loss: 1.999544, Val. Acc: 22.22%\n"
     ]
    }
   ],
   "source": [
    "for epoch in range(20):\n",
    "    train_loss, train_acc = train_model(model, train_iter, epoch)\n",
    "    val_loss, val_acc = eval_model(model, valid_iter)\n",
    "    print(f'Epoch: {epoch+1:02}, Train Loss: {train_loss:.3f}, Train Acc: {train_acc:.2f}%, Val. Loss: {val_loss:3f}, Val. Acc: {val_acc:.2f}%')"
   ]
  },
  {
   "cell_type": "code",
   "execution_count": 212,
   "metadata": {},
   "outputs": [
    {
     "name": "stdout",
     "output_type": "stream",
     "text": [
      "Test Loss: 1.980, Test Acc: 21.82%\n"
     ]
    }
   ],
   "source": [
    "test_loss, test_acc = eval_model(model, test_iter)\n",
    "print(f'Test Loss: {test_loss:.3f}, Test Acc: {test_acc:.2f}%')"
   ]
  },
  {
   "cell_type": "markdown",
   "metadata": {},
   "source": [
    "## Save the model"
   ]
  },
  {
   "cell_type": "code",
   "execution_count": 213,
   "metadata": {},
   "outputs": [],
   "source": [
    "torch.save(model.state_dict(), 'saved_weights.pt')"
   ]
  },
  {
   "cell_type": "markdown",
   "metadata": {},
   "source": [
    "## Predict with custom input"
   ]
  },
  {
   "cell_type": "code",
   "execution_count": 214,
   "metadata": {},
   "outputs": [
    {
     "data": {
      "text/plain": [
       "tensor([[2.9283e-01, 3.7589e-01, 3.1843e-01, 2.8570e-04, 1.2258e-02, 1.4841e-04,\n",
       "         8.0877e-05, 2.0231e-05, 4.4586e-05, 4.8509e-06, 3.5981e-11]],\n",
       "       grad_fn=<SoftmaxBackward>)"
      ]
     },
     "execution_count": 214,
     "metadata": {},
     "output_type": "execute_result"
    }
   ],
   "source": [
    "test_sent = \"This game is gets boring over time\"\n",
    "test_sent = TEXT.preprocess(test_sent)\n",
    "test_sent = [[TEXT.vocab.stoi[x] for x in test_sent]]\n",
    "test_sent = np.asarray(test_sent)\n",
    "test_sent = torch.LongTensor(test_sent)\n",
    "test_tensor = Variable(test_sent)\n",
    "model.eval()\n",
    "output = model(test_tensor, 1)\n",
    "out = F.softmax(output, 1)\n",
    "out"
   ]
  },
  {
   "cell_type": "code",
   "execution_count": 215,
   "metadata": {},
   "outputs": [
    {
     "name": "stdout",
     "output_type": "stream",
     "text": [
      "rating 1\n"
     ]
    }
   ],
   "source": [
    "print(\"rating\",torch.argmax(out[0]).item())"
   ]
  },
  {
   "cell_type": "markdown",
   "metadata": {},
   "source": [
    "## References"
   ]
  },
  {
   "cell_type": "code",
   "execution_count": 216,
   "metadata": {},
   "outputs": [],
   "source": [
    "### https://pytorch.org/text/stable/data.html\n",
    "### https://pytorch.org/tutorials/beginner/transformer_tutorial.html\n",
    "### https://pytorch.org/tutorials/beginner/text_sentiment_ngrams_tutorial.html\n",
    "### https://github.com/prakashpandey9/Text-Classification-Pytorch/blob/master/main.py\n",
    "### https://www.analyticsvidhya.com/blog/2020/01/first-text-classification-in-pytorch/\n",
    "### https://towardsdatascience.com/use-torchtext-to-load-nlp-datasets-part-ii-f146c8b9a496"
   ]
  },
  {
   "cell_type": "markdown",
   "metadata": {},
   "source": [
    "## Controbution over the references"
   ]
  },
  {
   "cell_type": "markdown",
   "metadata": {},
   "source": [
    "1. Data cleaning and preparation\n",
    "2. Explicityly based on torchtext and self preprocessed dataset.\n",
    "3. Different WordEmbedding Vectors and parameters\n",
    "4. Optimized the hyperparameters empirically\n",
    "5. Classifier based on 11 classes 0 - 10\n",
    "6. Deploying on cloud\n",
    "7. Faster processing using sclied data"
   ]
  },
  {
   "cell_type": "markdown",
   "metadata": {},
   "source": [
    "## Findings"
   ]
  },
  {
   "cell_type": "markdown",
   "metadata": {},
   "source": [
    "- Hyperparameters\n",
    "1. The values for embedding vectors and their dimensions can increase the number of parameters required by the program.\n",
    "2. Batch Size can be 16, 32, 64, .. In this notebook I have used 32.\n",
    "3. The number of layers in the model can be increased but not necessarily may have better results.\n",
    "4. The input length has been fixed at 200 characters but can be increased. The smaller text will be padded by default.\n",
    "\n",
    "- Overfitting\n",
    "1. The model training accuracy and loss are closely related to the validation accuracy and loss\n",
    "2. The model does not overfit. Also I had to use less amount of data due to resource limits\n"
   ]
  },
  {
   "cell_type": "markdown",
   "metadata": {},
   "source": [
    "## Why use embedding vectors?/What does the embeddings do?"
   ]
  },
  {
   "cell_type": "markdown",
   "metadata": {},
   "source": [
    "The Embedding vectors defines the relations between different words based on several features. For example King is related to Queen just like a Man is related to Women. Another generic example is oange and apple, both are fruits and the relation is defined by embeddings"
   ]
  },
  {
   "cell_type": "markdown",
   "metadata": {},
   "source": [
    "## What is LSTM?"
   ]
  },
  {
   "cell_type": "markdown",
   "metadata": {},
   "source": [
    "LSTM (Long Short Term Memory) is recurrent neural network model and is mostly used for processing sequential data. Like in our case the text data is sequential by nature. Hence LSTM is usefull for NLP tasks. It is also a powerful model compared to Vanilla RNN. There are different variants of LSTM which can be experimented with."
   ]
  },
  {
   "cell_type": "markdown",
   "metadata": {},
   "source": [
    "## Evaluation"
   ]
  },
  {
   "cell_type": "markdown",
   "metadata": {},
   "source": [
    "After 5 epochs on the dataset, average training accuracy was around 37% and validation accuracy about 36%. Surely this numbers can be increased by tuning the hyperparameters defined above, and training more."
   ]
  },
  {
   "cell_type": "code",
   "execution_count": null,
   "metadata": {},
   "outputs": [],
   "source": []
  }
 ],
 "metadata": {
  "kernelspec": {
   "display_name": "Python 3",
   "language": "python",
   "name": "python3"
  },
  "language_info": {
   "codemirror_mode": {
    "name": "ipython",
    "version": 3
   },
   "file_extension": ".py",
   "mimetype": "text/x-python",
   "name": "python",
   "nbconvert_exporter": "python",
   "pygments_lexer": "ipython3",
   "version": "3.8.5"
  }
 },
 "nbformat": 4,
 "nbformat_minor": 4
}
